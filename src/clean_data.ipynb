{
 "cells": [
  {
   "cell_type": "code",
   "execution_count": 3,
   "metadata": {},
   "outputs": [],
   "source": [
    "import pandas as pd\n",
    "import numpy as np\n",
    "from datetime import datetime\n",
    "import matplotlib.pyplot as plt\n",
    "import os\n",
    "\n",
    "directory = \"../data/2023\"\n",
    "\n",
    "for name in os.listdir(directory):\n",
    "\n",
    "    df = pd.read_csv(f'{directory}/{name}', encoding=\"latin-1\", decimal=\",\", sep=\";\", converters={'Data': str, 'Hora UTC': str}, skiprows = 8)\n",
    "\n",
    "    df = df.drop(columns=['Unnamed: 19'])\n",
    "\n",
    "    df[['Data']] = df[['Data']].astype(\"string\")\n",
    "\n",
    "    df.to_csv(f'../data/2023_cleaned/{name}', index= False, sep=';')\n",
    "\n",
    "\n"
   ]
  },
  {
   "cell_type": "code",
   "execution_count": 56,
   "metadata": {},
   "outputs": [
    {
     "name": "stdout",
     "output_type": "stream",
     "text": [
      "Index\n",
      "REGIAO:                                                         CO\n",
      "UF:                                                             MS\n",
      "ESTACAO:                                                BATAGUASSU\n",
      "CODIGO (WMO):                                                 A759\n",
      "LATITUDE:                                                   -21,75\n",
      "LONGITUDE:                                            -52,47138888\n",
      "ALTITUDE:                                                   392,13\n",
      "Arquivo          INMET_CO_MS_A759_BATAGUASSU_01-01-2023_A_31-12...\n",
      "Name: 0, dtype: object\n"
     ]
    }
   ],
   "source": [
    "directory = \"../data/2023\"\n",
    "\n",
    "ListDataframe = [] \n",
    "\n",
    "for name in os.listdir(directory):\n",
    "  \n",
    "        df = pd.read_csv(f'{directory}/{name}', encoding=\"latin-1\", decimal=\",\", sep=\";\", converters={'Data': str, 'Hora UTC': str}, nrows = 7, header=None)\n",
    "        df.columns = [\"Index\", \"Valor\"]\n",
    "        df = df.set_index(\"Index\")\n",
    "        df = df.T\n",
    "\n",
    "        df = df.reset_index(drop=True)\n",
    "\n",
    "        df[\"Arquivo\"] = name\n",
    "\n",
    "        ListDataframe.append(df)\n",
    "            \n",
    "df_stations = pd.concat(ListDataframe, ignore_index= True)\n",
    "df_stations.to_csv(f'../data/all_stations.csv', index= False, sep=';')\n",
    "\n",
    "print(df_stations.iloc[0])\n",
    "\n",
    "    \n"
   ]
  }
 ],
 "metadata": {
  "kernelspec": {
   "display_name": "Python 3",
   "language": "python",
   "name": "python3"
  },
  "language_info": {
   "codemirror_mode": {
    "name": "ipython",
    "version": 3
   },
   "file_extension": ".py",
   "mimetype": "text/x-python",
   "name": "python",
   "nbconvert_exporter": "python",
   "pygments_lexer": "ipython3",
   "version": "3.10.12"
  }
 },
 "nbformat": 4,
 "nbformat_minor": 2
}
