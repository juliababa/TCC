{
 "cells": [
  {
   "cell_type": "code",
   "execution_count": null,
   "id": "d7f0a284",
   "metadata": {},
   "outputs": [],
   "source": [
    "#conda create -n cptec python=3.10\n",
    "\n",
    "#conda activate cptec\n",
    "#conda install -c conda-forge xarray matplotlib pycurl cfgrib netcdf4 pynio xarray matplotlib pycurl cfgrib netcdf4 pynio dask\n",
    "#conda install -c anaconda ipykernel"
   ]
  },
  {
   "cell_type": "code",
   "execution_count": null,
   "id": "3048d811",
   "metadata": {},
   "outputs": [],
   "source": [
    "# Import para os modelos disponiveis\n",
    "# CPTEC_BAM, CPTEC_WRF, CPTEC_ETA, CPTEC_GFS\n",
    "\n",
    "import cptecmodel.CPTEC_BAM as BAM\n",
    "import cptecmodel.CPTEC_Widgets as WID"
   ]
  },
  {
   "cell_type": "code",
   "execution_count": null,
   "id": "784331be",
   "metadata": {},
   "outputs": [
    {
     "name": "stdout",
     "output_type": "stream",
     "text": [
      "\n",
      "#### The Brazilian Global Atmospheric Model (TQ0666L064 / Hybrid) #####\n",
      "\n",
      "Forecast data available for reading between 20250530 and 20250609.\n",
      "\n",
      "Surface variables: t2m, u10m, v10m, slp, psfc, precip\n",
      "                   terrain, sbcape, sbcin, pw.\n",
      "Level variables:   t, u, v, rh, g, omega.\n",
      "\n",
      "levels (hPa): 1000  925  850  775  700  500  400  300  250\n",
      "              200 150  100   70   50   30   20   10    3.\n",
      "\n",
      "Frequency: every 6 hours [0, 6, 12, 18,...,168].\n",
      "\n"
     ]
    }
   ],
   "source": [
    "# Durante a inicialização do construtor informações sobre os dados são exibidas\n",
    "# Entre elas informações de variaveis, niveis e frequência disponiveis para consulta\n",
    "\n",
    "bam = BAM.model()"
   ]
  },
  {
   "cell_type": "code",
   "execution_count": null,
   "id": "c38a9f18",
   "metadata": {},
   "outputs": [
    {
     "data": {
      "application/vnd.jupyter.widget-view+json": {
       "model_id": "80ceb79f649f4985a5b9c27b940c26b1",
       "version_major": 2,
       "version_minor": 0
      },
      "text/plain": [
       "Tab(children=(HBox(children=(VBox(children=(RadioButtons(description='Datas', options=(Timestamp('2025-06-09 0…"
      ]
     },
     "metadata": {},
     "output_type": "display_data"
    },
    {
     "data": {
      "text/plain": [
       "<cptecmodel.CPTEC_Widgets.show_menu at 0x7c1fa865ab90>"
      ]
     },
     "execution_count": 8,
     "metadata": {},
     "output_type": "execute_result"
    }
   ],
   "source": [
    "# Chamada da Interface Widget\n",
    "WID.show_menu(bam)"
   ]
  },
  {
   "cell_type": "code",
   "execution_count": null,
   "id": "b263b557",
   "metadata": {},
   "outputs": [],
   "source": []
  }
 ],
 "metadata": {
  "kernelspec": {
   "display_name": "cptec",
   "language": "python",
   "name": "python3"
  },
  "language_info": {
   "codemirror_mode": {
    "name": "ipython",
    "version": 3
   },
   "file_extension": ".py",
   "mimetype": "text/x-python",
   "name": "python",
   "nbconvert_exporter": "python",
   "pygments_lexer": "ipython3",
   "version": "3.10.13"
  }
 },
 "nbformat": 4,
 "nbformat_minor": 5
}
