{
 "cells": [
  {
   "cell_type": "code",
   "execution_count": 11,
   "metadata": {},
   "outputs": [
    {
     "name": "stdout",
     "output_type": "stream",
     "text": [
      "/home/juliababa/tcc/src/./2m_temperature_stream-oper_daily-mean.zarr\n"
     ]
    }
   ],
   "source": [
    "from nctotdb import NCDataModel, ZarrWriter\n",
    "\n",
    "data_model = NCDataModel('./2m_temperature_stream-oper_daily-mean.nc')\n",
    "data_model.populate()\n",
    "\n",
    "zarr_writer = ZarrWriter(data_model, './')\n",
    "zarr_writer.create_zarr()"
   ]
  },
  {
   "cell_type": "code",
   "execution_count": 37,
   "metadata": {},
   "outputs": [
    {
     "name": "stdout",
     "output_type": "stream",
     "text": [
      "FrozenMappingWarningOnValuesAccess({'time': 181, 'latitude': 3, 'longitude': 4})\n",
      "<xarray.Dataset> Size: 10kB\n",
      "Dimensions:         (time: 181, latitude: 3, longitude: 4)\n",
      "Coordinates:\n",
      "  * latitude        (latitude) float64 24B -15.55 -15.8 -16.05\n",
      "  * longitude       (longitude) float64 32B -48.26 -48.01 -47.76 -47.51\n",
      "  * time            (time) datetime64[ns] 1kB NaT 2023-01-02 ... 2023-06-30\n",
      "Data variables:\n",
      "    2m_temperature  (time, latitude, longitude) float32 9kB 296.3 ... 292.8\n",
      "<xarray.Dataset> Size: 112B\n",
      "Dimensions:         (latitude: 3, longitude: 4, valid_time: 1)\n",
      "Coordinates:\n",
      "  * latitude        (latitude) float64 24B -15.55 -15.8 -16.05\n",
      "  * longitude       (longitude) float64 32B -48.26 -48.01 -47.76 -47.51\n",
      "  * valid_time      (valid_time) datetime64[ns] 8B 2023-01-02\n",
      "Data variables:\n",
      "    2m_temperature  (valid_time, latitude, longitude) float32 48B 296.7 ... 2...\n",
      "Attributes: (12/32)\n",
      "    GRIB_NV:                                  0\n",
      "    GRIB_Nx:                                  4\n",
      "    GRIB_Ny:                                  3\n",
      "    GRIB_cfName:                              unknown\n",
      "    GRIB_cfVarName:                           t2m\n",
      "    GRIB_dataType:                            an\n",
      "    ...                                       ...\n",
      "    GRIB_typeOfLevel:                         surface\n",
      "    GRIB_units:                               K\n",
      "    GRIB_uvRelativeToGrid:                    0\n",
      "    long_name:                                2 metre temperature\n",
      "    standard_name:                            unknown\n",
      "    units:                                    K\n"
     ]
    },
    {
     "name": "stderr",
     "output_type": "stream",
     "text": [
      "/tmp/ipykernel_23765/377857607.py:14: RuntimeWarning: Failed to open Zarr store with consolidated metadata, but successfully read with non-consolidated metadata. This is typically much slower for opening a dataset. To silence this warning, consider:\n",
      "1. Consolidating metadata in this existing store with zarr.consolidate_metadata().\n",
      "2. Explicitly setting consolidated=False, to avoid trying to read consolidate metadata, or\n",
      "3. Explicitly setting consolidated=True, to raise an error in this case instead of falling back to try reading non-consolidated metadata.\n",
      "  dataset = xr.open_zarr('./2m_temperature_stream-oper_daily-mean.zarr')\n",
      "/home/juliababa/.local/lib/python3.10/site-packages/weatherbenchX/data_loaders/xarray_loaders.py:105: RuntimeWarning: Failed to open Zarr store with consolidated metadata, but successfully read with non-consolidated metadata. This is typically much slower for opening a dataset. To silence this warning, consider:\n",
      "1. Consolidating metadata in this existing store with zarr.consolidate_metadata().\n",
      "2. Explicitly setting consolidated=False, to avoid trying to read consolidate metadata, or\n",
      "3. Explicitly setting consolidated=True, to raise an error in this case instead of falling back to try reading non-consolidated metadata.\n",
      "  self._ds = xr.open_zarr(path)\n"
     ]
    }
   ],
   "source": [
    "import apache_beam as beam\n",
    "import numpy as np\n",
    "import xarray as xr\n",
    "import weatherbenchX\n",
    "from weatherbenchX.data_loaders import xarray_loaders\n",
    "from weatherbenchX.metrics import deterministic\n",
    "from weatherbenchX.metrics import base as metrics_base\n",
    "from weatherbenchX import aggregation\n",
    "from weatherbenchX import weighting\n",
    "from weatherbenchX import binning\n",
    "from weatherbenchX import time_chunks\n",
    "from weatherbenchX import beam_pipeline\n",
    "\n",
    "dataset = xr.open_zarr('./2m_temperature_stream-oper_daily-mean.zarr')\n",
    "\n",
    "dataset['time'].load()\n",
    "\n",
    "dataset\n",
    "\n",
    "# prediction_path = 'gs://weatherbench2/datasets/hres/2016-2022-0012-64x32_equiangular_conservative.zarr'\n",
    "target_path = './2m_temperature_stream-oper_daily-mean.zarr'\n",
    "\n",
    "variables = ['2m_temperature']\n",
    "target_data_loader = xarray_loaders.TargetsFromXarray(\n",
    "    path=target_path,\n",
    "    variables=variables,\n",
    ")\n",
    "# prediction_data_loader = xarray_loaders.PredictionsFromXarray(\n",
    "#     path=prediction_path,\n",
    "#     variables=variables,\n",
    "# )\n",
    "\n",
    "print(dataset.dims)\n",
    "\n",
    "print(dataset.load())\n",
    "\n",
    "init_times = np.array(['2023-01-02T00'], dtype='datetime64[ns]')\n",
    "lead_times = np.array([00], dtype='timedelta64[h]').astype('timedelta64[ns]')   # To silence xr warnings.\n",
    "\n",
    "target_chunk = target_data_loader.load_chunk(init_times)\n",
    "\n",
    "\n",
    "print(target_chunk)\n",
    "\n",
    "\n"
   ]
  }
 ],
 "metadata": {
  "kernelspec": {
   "display_name": "Python 3",
   "language": "python",
   "name": "python3"
  },
  "language_info": {
   "codemirror_mode": {
    "name": "ipython",
    "version": 3
   },
   "file_extension": ".py",
   "mimetype": "text/x-python",
   "name": "python",
   "nbconvert_exporter": "python",
   "pygments_lexer": "ipython3",
   "version": "3.10.12"
  }
 },
 "nbformat": 4,
 "nbformat_minor": 2
}
