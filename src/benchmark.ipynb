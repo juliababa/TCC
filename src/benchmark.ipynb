{
 "cells": [
  {
   "cell_type": "code",
   "execution_count": null,
   "metadata": {},
   "outputs": [],
   "source": [
    "\n",
    "# Importa a ferramenta\n",
    "import cptecmodel.CPTEC_BAM as BAM\n",
    "\n",
    "# Inicializa o construtor\n",
    "bam = BAM.model()\n",
    "\n",
    "# Data Condição Inicial (IC)\n",
    "date = '2022121800'\n",
    "\n",
    "# variaveis\n",
    "vars = ['t2m', 'u', 'omega']\n",
    "\n",
    "# Quantos passos previstos após inicialização do modelo\n",
    "steps = 5\n",
    "\n",
    "# Niveis desejados (aplicado apenas as variaveis em niveis)\n",
    "levels = [1000, 850]\n",
    "\n",
    "# Para ativar a função de escrita em disco com uma copia da resição basta alterar a função save_netcdf para True\n",
    "bam.dict['save_netcdf'] = True\n",
    "\n",
    "# # Diretorio onde serão salvas as requisições\n",
    "# # Por padrão, quando não aterado, um diretorio chamado INPE será criado na pasta corrente do usuario\n",
    "\n",
    "# bam.dict['path_to_save'] = '/home/guatura/modelos'\n",
    "\n",
    "# Requisição dos dados\n",
    "f = bam.load(date=date, var=vars, level=levels, steps=steps)\n",
    "\n",
    "# Um diretorio BAM será criado no diretorio corrente, no caso apresentado os dados serão salvos em:\n",
    "# INPE/BAM/TQ0666L064/brutos/hibrido/2022/11/18/00/GPOSNMC20220818002022081906P.fct.TQ0666L064.nc4\n",
    "\n"
   ]
  }
 ],
 "metadata": {
  "kernelspec": {
   "display_name": "Python 3",
   "language": "python",
   "name": "python3"
  },
  "language_info": {
   "codemirror_mode": {
    "name": "ipython",
    "version": 3
   },
   "file_extension": ".py",
   "mimetype": "text/x-python",
   "name": "python",
   "nbconvert_exporter": "python",
   "pygments_lexer": "ipython3",
   "version": "3.10.12"
  }
 },
 "nbformat": 4,
 "nbformat_minor": 2
}
